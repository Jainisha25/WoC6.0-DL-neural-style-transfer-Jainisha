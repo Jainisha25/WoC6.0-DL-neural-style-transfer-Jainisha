{
  "nbformat": 4,
  "nbformat_minor": 0,
  "metadata": {
    "colab": {
      "provenance": []
    },
    "kernelspec": {
      "name": "python3",
      "display_name": "Python 3"
    },
    "language_info": {
      "name": "python"
    }
  },
  "cells": [
    {
      "cell_type": "markdown",
      "source": [
        "NumPy is Numerical Python used for science and Engineering field.The NumPy API is used extensively in Pandas , SciPy, Matplotlib, scikit-learn, scikit-image and other Python Packages."
      ],
      "metadata": {
        "id": "ZAirLDVwqbQX"
      }
    },
    {
      "cell_type": "code",
      "execution_count": 1,
      "metadata": {
        "colab": {
          "base_uri": "https://localhost:8080/"
        },
        "id": "-ctBuCGYoY_7",
        "outputId": "e9fb79fe-9a8c-4d70-b37c-58e53723c636"
      },
      "outputs": [
        {
          "output_type": "stream",
          "name": "stdout",
          "text": [
            "Requirement already satisfied: numpy in /usr/local/lib/python3.10/dist-packages (1.23.5)\n"
          ]
        }
      ],
      "source": [
        "#Installing Numpy :\n",
        "!pip install numpy"
      ]
    },
    {
      "cell_type": "code",
      "source": [
        "#Importing Numpy:\n",
        "import numpy as np"
      ],
      "metadata": {
        "id": "HhI74-J_qxDQ"
      },
      "execution_count": 2,
      "outputs": []
    },
    {
      "cell_type": "code",
      "source": [
        "#Reading simple code:\n",
        "a = np.arange(6)\n",
        "a2 = a[np.newaxis, :]\n",
        "a2.shape"
      ],
      "metadata": {
        "colab": {
          "base_uri": "https://localhost:8080/"
        },
        "id": "ch0sX8gaq1rg",
        "outputId": "570a28d4-558e-4a5f-eaf5-e1e943d212bc"
      },
      "execution_count": 4,
      "outputs": [
        {
          "output_type": "execute_result",
          "data": {
            "text/plain": [
              "(1, 6)"
            ]
          },
          "metadata": {},
          "execution_count": 4
        }
      ]
    },
    {
      "cell_type": "markdown",
      "source": [
        "##What is the differeence between a Python list and NumPy array?"
      ],
      "metadata": {
        "id": "h_MjKGr0rP-3"
      }
    },
    {
      "cell_type": "markdown",
      "source": [
        "NumPy gives an enoromous range of fast and efficient ways of creating arrays and manipulating numerical data inside them. While Python list can contain different data types withn a single list, all of the elements in a NumPy array should be homogeneous. The mathematical operations that are meant to be performed on arrays would be extremely inefficient if the arrays weren't homogenous."
      ],
      "metadata": {
        "id": "9wO0ES4nrUyV"
      }
    },
    {
      "cell_type": "code",
      "source": [
        "#Python List:\n",
        "lst = [1,7,0,6,2,5,6]\n",
        "lst"
      ],
      "metadata": {
        "colab": {
          "base_uri": "https://localhost:8080/"
        },
        "id": "4PdNlZLUrBFt",
        "outputId": "124c11ed-ffb2-490c-8aab-b1846c9eaa4b"
      },
      "execution_count": 6,
      "outputs": [
        {
          "output_type": "execute_result",
          "data": {
            "text/plain": [
              "[1, 7, 0, 6, 2, 5, 6]"
            ]
          },
          "metadata": {},
          "execution_count": 6
        }
      ]
    },
    {
      "cell_type": "code",
      "source": [
        "#NumPy Array:\n",
        "a = np.array([1,2,3,4,5,6])\n",
        "a"
      ],
      "metadata": {
        "colab": {
          "base_uri": "https://localhost:8080/"
        },
        "id": "-5G6dEunscmh",
        "outputId": "c972dce5-611b-4241-82d5-faa0ea7b9570"
      },
      "execution_count": 7,
      "outputs": [
        {
          "output_type": "execute_result",
          "data": {
            "text/plain": [
              "array([1, 2, 3, 4, 5, 6])"
            ]
          },
          "metadata": {},
          "execution_count": 7
        }
      ]
    },
    {
      "cell_type": "markdown",
      "source": [
        "##Broadcasting:"
      ],
      "metadata": {
        "id": "HSyZWQJRs3oL"
      }
    },
    {
      "cell_type": "markdown",
      "source": [
        "Broadcasting describes how NumPy treats arrays with different shapes during arithematic operations. Subject to certain constraints, the smaller array is \"broadcast\" across the larger array so that they have compatible shapes.Broadcasting provides a means of vectorizing array operations so that looping occurs in C instead of Python. It does this without making needles copies of data and usually leads to efficient algorithm implementations. There are, however, cases where broadcasting is a bad idea because it leads to inefficient use of memory that slows computation."
      ],
      "metadata": {
        "id": "Ru2xi3M7s5YN"
      }
    },
    {
      "cell_type": "code",
      "source": [
        "a = np.array([1.0,2.0,3.0])\n",
        "b = np.array([2.0,2.0,2.0])\n",
        "a*b"
      ],
      "metadata": {
        "colab": {
          "base_uri": "https://localhost:8080/"
        },
        "id": "zTYYeLPSskA7",
        "outputId": "bc69405a-9a38-42a3-b19a-33844b426888"
      },
      "execution_count": 8,
      "outputs": [
        {
          "output_type": "execute_result",
          "data": {
            "text/plain": [
              "array([2., 4., 6.])"
            ]
          },
          "metadata": {},
          "execution_count": 8
        }
      ]
    },
    {
      "cell_type": "code",
      "source": [
        "a = np.array([1.0, 2.0, 3.0])\n",
        "b = 2.0\n",
        "a*b"
      ],
      "metadata": {
        "colab": {
          "base_uri": "https://localhost:8080/"
        },
        "id": "Xu0D0TnquEBP",
        "outputId": "b4b1cdc0-e0d9-4803-ef79-c869116e7c18"
      },
      "execution_count": 9,
      "outputs": [
        {
          "output_type": "execute_result",
          "data": {
            "text/plain": [
              "array([2., 4., 6.])"
            ]
          },
          "metadata": {},
          "execution_count": 9
        }
      ]
    },
    {
      "cell_type": "markdown",
      "source": [
        "##Vectorization:"
      ],
      "metadata": {
        "id": "9rueSKjfuvnS"
      }
    },
    {
      "cell_type": "markdown",
      "source": [
        "Vectorization describes the use of optimized, precompiled code written in a low-level language to perform mathematical operations over a sequence of data. Vectorization allows the elimination of the for-loops in python code. It is especially important in Deep Learning as we are dealing with large numbers of datasets. So it allows the code to run quickly and helps train the algorithms faster."
      ],
      "metadata": {
        "id": "AdYqiSuEuxk3"
      }
    },
    {
      "cell_type": "code",
      "source": [
        "#np.array()\n",
        "arr = np.array([1,2,3,4,5,6])\n",
        "arr"
      ],
      "metadata": {
        "colab": {
          "base_uri": "https://localhost:8080/"
        },
        "id": "Uv1PviTnuRIi",
        "outputId": "967aed45-5c08-4fb9-cd6d-7fc5465faacf"
      },
      "execution_count": 10,
      "outputs": [
        {
          "output_type": "execute_result",
          "data": {
            "text/plain": [
              "array([1, 2, 3, 4, 5, 6])"
            ]
          },
          "metadata": {},
          "execution_count": 10
        }
      ]
    },
    {
      "cell_type": "code",
      "source": [
        "#np.zeros()\n",
        "zeros_arr = np.zeros((2,3))\n",
        "zeros_arr"
      ],
      "metadata": {
        "colab": {
          "base_uri": "https://localhost:8080/"
        },
        "id": "-uVGPtXZv0cK",
        "outputId": "1723e469-22a0-40a1-abe7-4f023a9829a5"
      },
      "execution_count": 11,
      "outputs": [
        {
          "output_type": "execute_result",
          "data": {
            "text/plain": [
              "array([[0., 0., 0.],\n",
              "       [0., 0., 0.]])"
            ]
          },
          "metadata": {},
          "execution_count": 11
        }
      ]
    },
    {
      "cell_type": "code",
      "source": [
        "#np.ones()\n",
        "ones_arr = np.ones((3,2))\n",
        "ones_arr"
      ],
      "metadata": {
        "colab": {
          "base_uri": "https://localhost:8080/"
        },
        "id": "j8jOizkxv50b",
        "outputId": "1891750a-6824-417d-a03a-82181d4f0a27"
      },
      "execution_count": 12,
      "outputs": [
        {
          "output_type": "execute_result",
          "data": {
            "text/plain": [
              "array([[1., 1.],\n",
              "       [1., 1.],\n",
              "       [1., 1.]])"
            ]
          },
          "metadata": {},
          "execution_count": 12
        }
      ]
    },
    {
      "cell_type": "code",
      "source": [
        "#np.reshape()\n",
        "res = np.reshape(arr, (2,3))\n",
        "res"
      ],
      "metadata": {
        "colab": {
          "base_uri": "https://localhost:8080/"
        },
        "id": "R4qqOzM9v_Cg",
        "outputId": "9bceb665-bd7e-4282-c3c4-5bb48a178aa4"
      },
      "execution_count": 13,
      "outputs": [
        {
          "output_type": "execute_result",
          "data": {
            "text/plain": [
              "array([[1, 2, 3],\n",
              "       [4, 5, 6]])"
            ]
          },
          "metadata": {},
          "execution_count": 13
        }
      ]
    },
    {
      "cell_type": "code",
      "source": [
        "#np.concatenate()\n",
        "arr1 = np.array([1,2,3])\n",
        "arr2 =  np.array([4,5,6])\n",
        "con = np.concatenate((arr1, arr2))\n",
        "con"
      ],
      "metadata": {
        "colab": {
          "base_uri": "https://localhost:8080/"
        },
        "id": "i-6tAtMIwJ1v",
        "outputId": "7519a39e-527a-4aaa-a68c-481e328afc32"
      },
      "execution_count": 14,
      "outputs": [
        {
          "output_type": "execute_result",
          "data": {
            "text/plain": [
              "array([1, 2, 3, 4, 5, 6])"
            ]
          },
          "metadata": {},
          "execution_count": 14
        }
      ]
    },
    {
      "cell_type": "code",
      "source": [
        "#np.mean()\n",
        "np.mean(arr)"
      ],
      "metadata": {
        "colab": {
          "base_uri": "https://localhost:8080/"
        },
        "id": "87O2_RwjwU1h",
        "outputId": "75108f2d-0d5c-450c-d8cb-2d121603bc33"
      },
      "execution_count": 15,
      "outputs": [
        {
          "output_type": "execute_result",
          "data": {
            "text/plain": [
              "3.5"
            ]
          },
          "metadata": {},
          "execution_count": 15
        }
      ]
    },
    {
      "cell_type": "code",
      "source": [
        "#np.sum()\n",
        "np.sum(arr)"
      ],
      "metadata": {
        "colab": {
          "base_uri": "https://localhost:8080/"
        },
        "id": "xf_EsUGiwYEs",
        "outputId": "4ad1ca45-ddfa-4f22-9776-78ba21f39fe8"
      },
      "execution_count": 16,
      "outputs": [
        {
          "output_type": "execute_result",
          "data": {
            "text/plain": [
              "21"
            ]
          },
          "metadata": {},
          "execution_count": 16
        }
      ]
    },
    {
      "cell_type": "code",
      "source": [
        "#np.min()\n",
        "np.min(arr)"
      ],
      "metadata": {
        "colab": {
          "base_uri": "https://localhost:8080/"
        },
        "id": "4jqaqB4OwbYm",
        "outputId": "bcfae8fc-bfb6-4c2c-e61f-892e21442dfe"
      },
      "execution_count": 17,
      "outputs": [
        {
          "output_type": "execute_result",
          "data": {
            "text/plain": [
              "1"
            ]
          },
          "metadata": {},
          "execution_count": 17
        }
      ]
    },
    {
      "cell_type": "code",
      "source": [
        "#np.max()\n",
        "np.max(arr)"
      ],
      "metadata": {
        "colab": {
          "base_uri": "https://localhost:8080/"
        },
        "id": "cq0TFYLcwdok",
        "outputId": "452f3d80-1dd3-45a3-cc2d-1cfeaf80b39a"
      },
      "execution_count": 18,
      "outputs": [
        {
          "output_type": "execute_result",
          "data": {
            "text/plain": [
              "6"
            ]
          },
          "metadata": {},
          "execution_count": 18
        }
      ]
    },
    {
      "cell_type": "code",
      "source": [
        "#np.argmax()\n",
        "np.argmax(arr) #Index of max"
      ],
      "metadata": {
        "colab": {
          "base_uri": "https://localhost:8080/"
        },
        "id": "sksPJe0zwhdj",
        "outputId": "66fc335c-122a-4031-efce-4e496b104c2c"
      },
      "execution_count": 19,
      "outputs": [
        {
          "output_type": "execute_result",
          "data": {
            "text/plain": [
              "5"
            ]
          },
          "metadata": {},
          "execution_count": 19
        }
      ]
    },
    {
      "cell_type": "code",
      "source": [
        "#np.argmin()\n",
        "np.argmin(arr) #Index of min"
      ],
      "metadata": {
        "colab": {
          "base_uri": "https://localhost:8080/"
        },
        "id": "-xmvxDnHwmNd",
        "outputId": "aabdd739-a2ca-4807-fb0d-283955d0ffe8"
      },
      "execution_count": 20,
      "outputs": [
        {
          "output_type": "execute_result",
          "data": {
            "text/plain": [
              "0"
            ]
          },
          "metadata": {},
          "execution_count": 20
        }
      ]
    },
    {
      "cell_type": "code",
      "source": [
        "#np.random.rand()\n",
        "ran = np.random.rand(3,2)\n",
        "ran"
      ],
      "metadata": {
        "colab": {
          "base_uri": "https://localhost:8080/"
        },
        "id": "NKNSfQJPwshn",
        "outputId": "ef8510be-25a8-48e4-a48c-fc5d8b5553e0"
      },
      "execution_count": 21,
      "outputs": [
        {
          "output_type": "execute_result",
          "data": {
            "text/plain": [
              "array([[0.01505186, 0.02046348],\n",
              "       [0.62376762, 0.41313282],\n",
              "       [0.95478957, 0.94080219]])"
            ]
          },
          "metadata": {},
          "execution_count": 21
        }
      ]
    },
    {
      "cell_type": "code",
      "source": [
        "#np.random.randn()\n",
        "ran_normal = np.random.randn(3,2)\n",
        "ran_normal"
      ],
      "metadata": {
        "colab": {
          "base_uri": "https://localhost:8080/"
        },
        "id": "hsmIzFk6w1pk",
        "outputId": "1757fbd2-74e2-477a-aa94-43f835cb8f98"
      },
      "execution_count": 22,
      "outputs": [
        {
          "output_type": "execute_result",
          "data": {
            "text/plain": [
              "array([[ 0.27035199,  1.03817731],\n",
              "       [ 0.31730684, -2.68740378],\n",
              "       [-0.14199551,  1.04048247]])"
            ]
          },
          "metadata": {},
          "execution_count": 22
        }
      ]
    },
    {
      "cell_type": "code",
      "source": [
        "#np.random.randit()\n",
        "random_int = np.random.randint(1, 10, size=(2, 3))\n",
        "random_int"
      ],
      "metadata": {
        "colab": {
          "base_uri": "https://localhost:8080/"
        },
        "id": "9Fblikiqw76Z",
        "outputId": "6c191ef4-2802-464f-eb1f-a39a76995a3c"
      },
      "execution_count": 23,
      "outputs": [
        {
          "output_type": "execute_result",
          "data": {
            "text/plain": [
              "array([[3, 7, 6],\n",
              "       [1, 1, 2]])"
            ]
          },
          "metadata": {},
          "execution_count": 23
        }
      ]
    },
    {
      "cell_type": "code",
      "source": [
        "#np.dot()\n",
        "matrix_a = np.array([[1, 2], [3, 4]])\n",
        "matrix_b = np.array([[5, 6], [7, 8]])\n",
        "dot_product = np.dot(matrix_a, matrix_b)\n",
        "dot_product"
      ],
      "metadata": {
        "colab": {
          "base_uri": "https://localhost:8080/"
        },
        "id": "xNBBsLOvxAMr",
        "outputId": "a959b08e-975a-4dee-c04e-e73bdc1594c5"
      },
      "execution_count": 25,
      "outputs": [
        {
          "output_type": "execute_result",
          "data": {
            "text/plain": [
              "array([[19, 22],\n",
              "       [43, 50]])"
            ]
          },
          "metadata": {},
          "execution_count": 25
        }
      ]
    },
    {
      "cell_type": "code",
      "source": [],
      "metadata": {
        "id": "s2RALXF9xIg2"
      },
      "execution_count": null,
      "outputs": []
    }
  ]
}